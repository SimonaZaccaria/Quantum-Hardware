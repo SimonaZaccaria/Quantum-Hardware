{
 "cells": [
  {
   "cell_type": "markdown",
   "id": "33d56215",
   "metadata": {},
   "source": [
    "Partiamo con un circuito che è **quasi lumped** (perché abbiamo pezzi di circuito che sono a parametri concentrati, come i transmon, e altri pezzi che sono a parametri distribuiti, come i resonator, ma che noi trattiamo come se fossero a parametri concentrati e.g somma di oscillatori armonici). L'obiettivo è quello di trovare l'Hamiltoniano che regola il funzionamento del circuito. Poiché, in generale, il circuito può essere abbastanza complesso, si cerca una strategia per poter ottenere i parametri necessari alla scrittura dell'Hamiltoniano, come la matrice delle capacità e quella delle induttanze. Se consideriamo le variabili $\\Phi$ e $Q$ come gli equivalenti di x e p, avremo che il termine di energia cientica è rappresentato da $\\frac{1}{2}Q^TC^{-1}Q$ mentre l'energia potenziale è rappresentato da $\\frac{1}{2}\\Phi^T L^{-1}\\Phi$ (potenziale parabolico) a cui andrà aggiunto il contributo dei termini non lineari (giunzioni). Per fare ciò è possibili effettuare due partizioni diverse del circuito: 1) la partizione in celle 2)la partizione in sottosistemi.\n",
    "Le celle sono un gruppo di elementi (con elementi intendo letteralmente pezzi di metallo) che sono indipendenti le une dalle altre e che quindi possono essere simulate separatamente. I sottosistemi sono invece i componenti effettivi del circuito (transmon, resonator...). La prima cosa da fare è considerare ogni elemento del circuito come un nodo, tra questi nodi ci saranno quelli di coupling (i nodi toccati solo da elementi dello stesso tipo, e.g solo capacità o solo induttanze) e il ground che andranno eliminati in seguito (perché non aggiungono modi di oscillazione). Simulando le singole celle troviamo le matrici delle capacità $C_n$ e delle induttanze inverse associate $L^{-1}$ (ridotte, quindi senza includere il ground). Le due matrici complessive saranno date dalla somma di tutte le matrici (ovviamente scritte tutte con la stessa dimensione N-1xN-1). Dopo questo passaggio è già possibile scrivere la Lagrangiana come $L=\\frac{1}{2}\\dot{\\Phi}^TC\\dot{\\Phi}-\\frac{1}{2}\\Phi^TL^{-1}\\Phi-\\sum_{j=1}^{J}{\\epsilon_j^{nl}}$. Prima di arrivare a scrivere l'Hamiltoniano è necessario effettuare delle trasformazioni in modo da considerare come base dei flussi quella in cui ci sono i flussi delle giunzioni e poi ridurre le matrici. I passaggi vengono descritti con un esempio.\n",
    "\n",
    "Consideriamo l'esempio sottostante che rappresenta una cella"
   ]
  },
  {
   "cell_type": "code",
   "execution_count": 1,
   "id": "d161b1f3",
   "metadata": {},
   "outputs": [
    {
     "data": {
      "text/plain": [
       "{'material': 'silicon',\n",
       " 'layer_start': '0',\n",
       " 'layer_end': '2048',\n",
       " 'size': {'center_x': '0.0mm',\n",
       "  'center_y': '0.0mm',\n",
       "  'center_z': '0.0mm',\n",
       "  'size_x': '1.5mm',\n",
       "  'size_y': '1.5mm',\n",
       "  'size_z': '-750um',\n",
       "  'sample_holder_top': '890um',\n",
       "  'sample_holder_bottom': '1650um'}}"
      ]
     },
     "execution_count": 1,
     "metadata": {},
     "output_type": "execute_result"
    }
   ],
   "source": [
    "%load_ext autoreload\n",
    "%autoreload 2\n",
    "\n",
    "import qiskit_metal as metal\n",
    "from qiskit_metal import designs, draw\n",
    "from qiskit_metal import MetalGUI, Dict, open_docs\n",
    "\n",
    "design = designs.DesignPlanar()\n",
    "gui = MetalGUI(design)\n",
    "design.overwrite_enabled = True\n",
    "\n",
    "from qiskit_metal.qlibrary.qubits.transmon_pocket import TransmonPocket # import del pacchetto Transmon \n",
    "# Imposta le dimensioni del chip, così non va ritagliato\n",
    "design.chips.main.size['size_x'] = '1.5mm' \n",
    "design.chips.main.size['size_y'] = '1.5mm' \n",
    "design.chips.main\n",
    "#con dimensioni più piccole ho errore"
   ]
  },
  {
   "cell_type": "code",
   "execution_count": 2,
   "id": "027184aa",
   "metadata": {},
   "outputs": [],
   "source": [
    "#lista dei parametri che vogliamo utilizzare nel trasmon dati sotto forma di dizionario. Le chiavi sono i nomi dei parametri definiti nella classe\n",
    "transmon_options=dict(\n",
    "    orientation='90',\n",
    "    connection_pads=dict(\n",
    "        a = dict(loc_W=+1, loc_H=-1, cpw_extend = '25um'),\n",
    "        b = dict(loc_W=-1, loc_H=-1, cpw_extend = '25um'),\n",
    "        c = dict(loc_W=+1, loc_H=+1, cpw_extend = '25um')\n",
    "    ),\n",
    "    gds_cell_name='FakeJunction_01',\n",
    "    )\n",
    "#istanza del transmon\n",
    "q1=TransmonPocket(design,'Q1', options=transmon_options)\n",
    "\n",
    "gui.rebuild()  # rebuild the design and plot\n",
    "gui.autoscale() # resize GUI to see QComponent\n",
    "gui.zoom_on_components(['Q1']) #Can also gui.zoom_on_components([q1.name])"
   ]
  },
  {
   "cell_type": "code",
   "execution_count": 3,
   "id": "07a2a770",
   "metadata": {},
   "outputs": [
    {
     "data": {
      "text/plain": [
       "{'short_segments_to_not_fillet': 'True',\n",
       " 'check_short_segments_by_scaling_fillet': '2.0',\n",
       " 'gds_unit': 0.001,\n",
       " 'ground_plane': 'True',\n",
       " 'negative_mask': {'main': []},\n",
       " 'fabricate': 'False',\n",
       " 'corners': 'circular bend',\n",
       " 'tolerance': '0.00001',\n",
       " 'precision': '0.000000001',\n",
       " 'width_LineString': '10um',\n",
       " 'path_filename': '../resources/Fake_Junctions.GDS',\n",
       " 'junction_pad_overlap': '5um',\n",
       " 'max_points': '199',\n",
       " 'cheese': {'datatype': '100',\n",
       "  'shape': '0',\n",
       "  'cheese_0_x': '25um',\n",
       "  'cheese_0_y': '25um',\n",
       "  'cheese_1_radius': '100um',\n",
       "  'view_in_file': {'main': {1: True}},\n",
       "  'delta_x': '100um',\n",
       "  'delta_y': '100um',\n",
       "  'edge_nocheese': '200um'},\n",
       " 'no_cheese': {'datatype': '99',\n",
       "  'buffer': '25um',\n",
       "  'cap_style': '2',\n",
       "  'join_style': '2',\n",
       "  'view_in_file': {'main': {1: True}}},\n",
       " 'bounding_box_scale_x': '1.2',\n",
       " 'bounding_box_scale_y': '1.2'}"
      ]
     },
     "execution_count": 3,
     "metadata": {},
     "output_type": "execute_result"
    }
   ],
   "source": [
    "#export del gds file\n",
    "#QDesign registers GDS renderer during init of QDesign.\n",
    "a_gds = design.renderers.gds\n",
    "\n",
    "#Show the options for GDS\n",
    "a_gds.options\n"
   ]
  },
  {
   "cell_type": "code",
   "execution_count": null,
   "id": "6401864a",
   "metadata": {},
   "outputs": [],
   "source": [
    "#per disabilitare i layer del gds che non ci interessano (tutti tranne ground e top)\n",
    "a_gds.options['cheese']['view_in_file']['main'][1] = False\n",
    "a_gds.options['no_cheese']['view_in_file']['main'][1] = False\n",
    "a_gds.options['buffer']['view_in_file']['main'][1] = False"
   ]
  },
  {
   "cell_type": "code",
   "execution_count": null,
   "id": "de9c7ce6",
   "metadata": {},
   "outputs": [],
   "source": [
    "#check che abbia cambiato i valori\n",
    "a_gds.options"
   ]
  },
  {
   "cell_type": "code",
   "execution_count": null,
   "id": "07c49556",
   "metadata": {},
   "outputs": [],
   "source": [
    "#fa l'export del gds e lo mette nel path indicato\n",
    "a_gds.export_to_gds('C:/Users/simyz/OneDrive/Desktop/Qcomputing/SuperconductingQubit/prova1.gds')\n",
    "\n",
    "#Oss. nel gds non c'è la giunzione, non è un problema perché a noi serve per estrarre la matrice delle capacità"
   ]
  },
  {
   "cell_type": "markdown",
   "id": "71b39832",
   "metadata": {},
   "source": [
    "Una volta estratto il gds file, si utilizza LayouEditor per gli ultimi ritocchi (semplicemente separare i cpw dal ground) e poi FastCap per estrarre la matrice delle capacità. Al momento tutti gli elementi (ground incluso), sono considerati nodi della rete, quindi la matrice associata sarà 6x6. L'ordine dei nodi è il seguente:\n",
    "* N0=P0\n",
    "* N1=P1\n",
    "* N2=B1\n",
    "* N3=B2\n",
    "* N4=B3\n",
    "* N5=G\n",
    "\n",
    "Ricordiamo che i componenti $C_{ij}$ della matrice sono calcolati nel seguente modo: $C_{ij}=-C_{ij}$ se $i\\neq j$ altrimenti $C_{ij}=\\sum_{j=0}^{N-1}{C_{ij}}$. Questo procedimento viene fatto in automatico da FastCap. Dopodiché si può scrivere la matrice di Maxwell, scegliendo un nodo come ground ed eliminando la riga e la colonna associate a quel nodo.\n",
    "\n",
    "Per quanto riguarda la matrice delle induttanze, la versione in cui non si considerano i componenti non lineari, sarà una matrice con soli zeri, nel momento in cui andiamo ad aggiungere i componenti non lineari avremo il valore dell'induttanza (inverso) della giunzione nella posizione 00,11 e - il valore nelle posizioni 01,10 (questo lo vedi dal fatto che per scrivere l'hamiltoniano in modo tale che ci sia una somma in j delle energie dei componenti non lineari in automatico la matrice deve essere fatta così). Poi, possiamo ridurre le matrici semplicemente eliminando la riga e la colonna corrispondenti al ground.\n",
    "\n",
    "Iniziamo col definire la prima trasformazione $S_n^{-1}$ che serve per avere come vettori di base i flussi legati alla giunzione $\\Phi=S_n^{-1}\\Phi_n$. Nel caso in esame, il flusso della giunzione sarà $\\Phi_1-\\Phi_0$, usiamo questo vettore al posto di $\\Phi_1$, tutti gli altri rimarranno invariati.\n",
    "$$S_n^{-1}=\\begin{bmatrix}  \n",
    "                       1&0&0&0&0&\\\\ \n",
    "                       -1&1&0&0&0&\\\\ \n",
    "                       0&0&1&0&0&\\\\ \n",
    "                       0&0&0&1&0&\\\\ \n",
    "                       0&0&0&0&1& \n",
    "                       \\end{bmatrix}\n",
    "$$"
   ]
  },
  {
   "cell_type": "code",
   "execution_count": 1,
   "id": "98b8b69a",
   "metadata": {},
   "outputs": [],
   "source": [
    "#Creazione della matrice di Maxwell. Prende in ingresso la matrice e il nodo da eliminare\n",
    "import numpy as np\n",
    "def MaxwellCapacitance(C,ground):\n",
    "    C_max=np.delete(C,ground, axis=1)\n",
    "    C_max=np.delete(C_max,ground,axis=0)\n",
    "    return C_max\n",
    "\n",
    "#aggiunta dei componenti non lineari delle induttanze\n",
    "def NonLin(L,nonlinear_component, nodi):\n",
    "    if len(nonlinear_component)==len(nodi):\n",
    "        for i in range(len(nodi)):\n",
    "            coppia_nodi=nodi[i]\n",
    "            L[coppia_nodi[0],coppia_nodi[0]]+=nonlinear_component[i]\n",
    "            L[coppia_nodi[1],coppia_nodi[1]]+=nonlinear_component[i]\n",
    "            L[coppia_nodi[0],coppia_nodi[1]]+=-nonlinear_component[i]\n",
    "            L[coppia_nodi[1],coppia_nodi[0]]+=-nonlinear_component[i]\n",
    "    else:\n",
    "        print(\"ERRORE:le dimensioni dei due vettori non coincidono\")\n",
    "    return L    "
   ]
  },
  {
   "cell_type": "code",
   "execution_count": 2,
   "id": "cfbb1b46",
   "metadata": {},
   "outputs": [],
   "source": [
    "#implementazione della prima trasformazione Sn la funzione ha come parametri di ingresso la dimensione della base dim, e l'insieme\n",
    "#delle coppie di nodi a cui sono collegati le induttanze non lineari. Cambia la colonna della matrice associata al secondo nodo\n",
    "#della coppia\n",
    "import numpy as np\n",
    "def Sn(dim,coppie_nodi):\n",
    "    S=np.identity(dim)\n",
    "    for coppie in coppie_nodi:\n",
    "        S[coppie[1],coppie[0]]=-1\n",
    "    S=np.linalg.inv(S) #ne faccio il suo inverso\n",
    "    return S\n",
    "    "
   ]
  },
  {
   "cell_type": "code",
   "execution_count": 3,
   "id": "aa55c932",
   "metadata": {},
   "outputs": [
    {
     "name": "stdout",
     "output_type": "stream",
     "text": [
      "[[1. 0. 0. 0. 0.]\n",
      " [1. 1. 0. 0. 0.]\n",
      " [0. 0. 1. 0. 0.]\n",
      " [0. 0. 0. 1. 0.]\n",
      " [0. 0. 0. 0. 1.]]\n"
     ]
    }
   ],
   "source": [
    "#test sull'esempio descritto in precedenza\n",
    "print(Sn(5,[(0,1)]))"
   ]
  },
  {
   "cell_type": "markdown",
   "id": "2ee88dce",
   "metadata": {},
   "source": [
    "Con questa trasformazione, abbiamo trasformato la matrice degli inversi delle induttanze, in una matrice diagonale. Questa matrice, però, potrebbe essere ancora singolare. Serve dunque effettuare una seconda trasformazione per andare ad eliminare i vettori del ker che non danno contributo in quanto i nodi a loro associati sono di coupling (tutti i nodi connessi esclusivamente tramite capacità). Nel caso in esame, la $L^{-1}$ avrà un kernel di dimensione 5. Poiché se si considera il sistema composito (dell'articolo sul LOM), i nodi N2, N3, N4 sono connessi ai cpw e quindi anche se al momento non appare, sono connessi a delle induttanze, gli unici nodi \"puramente\" di coupling è N0. La matrice $S_r$ che contiene i flussi associati ai nodi di coupling sarà una vettore\n",
    "$$\\begin{bmatrix} 1\\\\ 0\\\\ 0\\\\ 0\\\\ 0\\end{bmatrix}$$\n",
    "La matrice complementare $S_k$ sarà invece una 4x5:\n",
    "$$\\begin{bmatrix} 0&0&0&0\\\\ 1&0&0&0\\\\ 0&1&0&0\\\\ 0&0&1&0\\\\ 0&0&0&1 \\end{bmatrix}$$\n",
    "In codice:"
   ]
  },
  {
   "cell_type": "code",
   "execution_count": null,
   "id": "10e2e7d0",
   "metadata": {},
   "outputs": [],
   "source": [
    "#data la dimmensione totale della matrice delle induttanze (o capacità) e dato il suo ker, trova la trasformazione Sr\n",
    "def Sr(dim,nodi_ker):\n",
    "    S=np.zeros((dim, len(nodi_ker)))\n",
    "    j=0\n",
    "    for i in nodi_ker:\n",
    "        S[i,j]=1\n",
    "        j=j+1\n",
    "    return S\n",
    "\n",
    "#data la mdimensione totale della matrice delle induttanze (o capacità) e dato il suo ker, trova il complementare di Sr\n",
    "#si sfrutta il fatto che molte delle colonne di Sk sono le colonne della matrice identità\n",
    "def Sk(dim,nodi_ker):\n",
    "    S=np.identity(dim)\n",
    "    S_k=np.delete(S,nodi_ker,axis=1)\n",
    "    return S_k\n",
    "    "
   ]
  },
  {
   "cell_type": "markdown",
   "id": "3ed13db1",
   "metadata": {},
   "source": [
    "Una volta trovate le matrici è possibile effettuare la seconda trasformazione (trasformazione di riduzione), che nel nostro caso sarà anche l'ultima, visto che non abbiamo coupling induttivi. Per fare ciò, basta applicare la formula 7 dell'articolo che viene implementate sotto, sia per la matrice dell'inverso delle induttanze che per quella delle capacità"
   ]
  },
  {
   "cell_type": "code",
   "execution_count": null,
   "id": "831c24bb",
   "metadata": {},
   "outputs": [],
   "source": [
    "import numpy as np\n",
    "\n",
    "#Data la matrice di trasformazione(riduzione) Sk e la matrice dell'inverso delle induttanze, ritorna la matrice ridotta\n",
    "def Lk(Sk,L):\n",
    "    Sk_T=np.transpose(Sk)\n",
    "    L_k=np.dot(np.dot(Sk_T,L),Sk)\n",
    "    return L_k\n",
    "\n",
    "def Ck(Sr,Sk,C):\n",
    "    Sr_T=np.transpose(Sr)\n",
    "    Sk_T=np.transpose(Sk)\n",
    "    A=np.dot(np.dot(Sr_T,C),Sr) #implemento il pezzo SrT*C*Sr\n",
    "    A=np.linalg.inv(A) #ne faccio il suo inverso\n",
    "    B=np.dot(np.dot(np.dot(C,Sr),A),np.dot(Sr_T,C)) #finisco di calcolare tutto il pezzo centrale della 7\n",
    "    B=C-B\n",
    "    C_k=np.dot(Sk_T,np.dot(B,Sk))\n",
    "    return C_k"
   ]
  },
  {
   "cell_type": "markdown",
   "id": "0776681d",
   "metadata": {},
   "source": [
    "A questo punto, vogliamo arrivare a scrivere l'Hamiltoniano. Per farlo, è necessario definire il \"momento coniugato\", che nel nostro caso sarà il vettore delle cariche $Q_k=C_k\\Phi_k$. (puoi vederlo come  matrice dove ogni colonna corrisponde a un vettore di carica)"
   ]
  },
  {
   "cell_type": "code",
   "execution_count": null,
   "id": "5c0a057d",
   "metadata": {},
   "outputs": [],
   "source": [
    "def Qk(Ck,phi):\n",
    "    Q_k=np.dot(Ck,phi)\n",
    "    return Q_k\n",
    "\n",
    "def Hamiltoniano_lin(Qk,Ck,Lk,phik):\n",
    "    Qk_T=np.transpose(Qk)\n",
    "    phik_T=np.transpose(phik)\n",
    "    C1=np.linalg.inv(Ck)\n",
    "    T=np.dot(Qk_T,np.dot(C1,Qk))/2\n",
    "    V=np.dot(phik_T,np.dot(L,phik))/2\n",
    "    H=T+V\n",
    "    return H\n",
    "\n"
   ]
  },
  {
   "cell_type": "code",
   "execution_count": null,
   "id": "32743af9",
   "metadata": {},
   "outputs": [],
   "source": [
    "#estrazione dei parametri del transmon\n",
    "def E_c (C,component_riga, component_colonna):\n",
    "    e = 1.60217657e-19  # electron charge\n",
    "    c=C[component_riga][component_colonna]\n",
    "    Ec=e**2/(2*c)\n",
    "    return Ec\n",
    "\n",
    "def E_j (Lj):\n",
    "    e = 1.60217657e-19  # electron charge\n",
    "    h = 6.62606957e-34  # Plank's\n",
    "    phi0=h/(2*e)\n",
    "    Ej=(phi0/(2*np.pi))**2\n",
    "    Ej=Ej/Lj\n",
    "    return Ej\n",
    "#anharmonicity=-Ec\n",
    "Ec=E_c(C_k,0,0)\n",
    "a=-Ec\n",
    "#plasma frequency\n",
    "hbar = 1.0545718E-34  # Plank's reduced\n",
    "wp=pow(8*Ec*E_j(Lj),0.5)\n",
    "wp=wp/hbar\n",
    "\n",
    "#dressed frequency\n",
    "wq=wp-(Ec/hbar)\n"
   ]
  },
  {
   "cell_type": "markdown",
   "id": "c1af67f0",
   "metadata": {},
   "source": [
    "Questo è quello che riguarda le celle con i transmon. Per le celle contenenti i resonator, la derivazione dell'Hamiltoniano è più semplice. Sappiamo, infatti, che nel caso di un oscillatore considerato come un insieme di circuiti LC, l'Hamiltoniano è pari a $H=\\sum_m{\\hbar \\omega_m(a_m^{\\dagger}a_m+\\frac{1}{2})}$ se si considera le sue terminazioni come degli aperti o dei cortocircuiti. Nel nostro caso, però, avremo che una delle due estremità sarà chiusa su di un carico, è dunque necessario calcolarsi come questo carico influisce sulla struttura dell'Hamiltoniano. Applicando le giuste condizioni al contorno è possibile scrivere un'equazione trascendente che permette di calcolare le $\\omega_m$ dressed. Quindi l'unico effetto del carico è quello di ridefinire i valori delle frequenze e delle fasi, la forma dell'Hamiltoniano resterà la stessa. \n",
    "Di seguito si prova a risolvere l'equazione \n",
    "$$\\omega_m\\frac{L}{v_p}+arctg(\\frac{\\omega_m}{\\omega_L})=m\\pi+b\\frac{\\pi}{2}$$"
   ]
  },
  {
   "cell_type": "code",
   "execution_count": 23,
   "id": "f4693e41",
   "metadata": {},
   "outputs": [
    {
     "name": "stdout",
     "output_type": "stream",
     "text": [
      "0\n",
      "3.70240244847131e+21\n",
      "1.11072073453979e+22\n"
     ]
    }
   ],
   "source": [
    "import sympy as sp\n",
    "import numpy as np\n",
    "l=5E-12 #inserire valore dell'induttanza per unità di lunghezza\n",
    "c=4E-9 #inserire valore della capacità per unità di lunghezza\n",
    "CL=1E-9 #inserire il valore della capacità di carico\n",
    "L=5e-3#inserire lunghezza linea\n",
    "M=3 #inserire numero massimo di  nodi da considerare\n",
    "vp=1/np.sqrt(l*c)\n",
    "b=0 #1 o 0 a seconda della condizione a contorno\n",
    "w=1/(l*CL*vp)\n",
    "x = sp.symbols('x')\n",
    "#risolvo l'equazione\n",
    "omega=[]\n",
    "for i in range(M):\n",
    "    omega.append(sp.nsolve(x*(L/vp)+ sp.atan(x/w)-i*np.pi-b*(np.pi/2),x, (0,1000)))\n",
    "    print(omega[i])\n",
    "    \n"
   ]
  },
  {
   "cell_type": "code",
   "execution_count": null,
   "id": "b1837449",
   "metadata": {},
   "outputs": [],
   "source": []
  }
 ],
 "metadata": {
  "kernelspec": {
   "display_name": "Python 3 (ipykernel)",
   "language": "python",
   "name": "python3"
  },
  "language_info": {
   "codemirror_mode": {
    "name": "ipython",
    "version": 3
   },
   "file_extension": ".py",
   "mimetype": "text/x-python",
   "name": "python",
   "nbconvert_exporter": "python",
   "pygments_lexer": "ipython3",
   "version": "3.10.0"
  }
 },
 "nbformat": 4,
 "nbformat_minor": 5
}
